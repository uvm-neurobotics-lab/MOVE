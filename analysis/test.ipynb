{
 "cells": [
  {
   "cell_type": "code",
   "execution_count": 2,
   "metadata": {},
   "outputs": [],
   "source": [
    "%load_ext autoreload\n",
    "%autoreload 2\n",
    "from plot import *\n",
    "import os\n",
    "import sys\n",
    "\n",
    "sys.path.append(os.path.abspath('../'))\n",
    "from analysis_util import *\n",
    "\n",
    "from norm import read_norm_data\n",
    "from sgd_weights import sgd_weights\n",
    "\n",
    "config=None\n",
    "inputs=None\n",
    "target=None\n",
    "norm=None\n"
   ]
  },
  {
   "cell_type": "code",
   "execution_count": 3,
   "metadata": {},
   "outputs": [],
   "source": [
    "device = 'cpu'"
   ]
  },
  {
   "cell_type": "code",
   "execution_count": 4,
   "metadata": {},
   "outputs": [
    {
     "name": "stderr",
     "output_type": "stream",
     "text": [
      "  3%|▎         | 1/37 [00:00<00:14,  2.54it/s]"
     ]
    },
    {
     "name": "stderr",
     "output_type": "stream",
     "text": [
      "100%|██████████| 37/37 [00:00<00:00, 52.67it/s]"
     ]
    },
    {
     "name": "stdout",
     "output_type": "stream",
     "text": [
      "\n",
      "Loaded 2 genomes\n"
     ]
    },
    {
     "name": "stderr",
     "output_type": "stream",
     "text": [
      "\n"
     ]
    }
   ],
   "source": [
    "results_path = '../../results/fourier-features/conditions/128_features/run_2774234879735304686'\n",
    "\n",
    "cppns, config = get_cppns_by_batch(results_path, 10000, True, device=device)\n",
    "inputs = load_inputs(results_path)"
   ]
  },
  {
   "cell_type": "code",
   "execution_count": 5,
   "metadata": {},
   "outputs": [
    {
     "name": "stdout",
     "output_type": "stream",
     "text": [
      "CX 886\n",
      "N 147\n",
      "CX 825\n",
      "N 177\n"
     ]
    }
   ],
   "source": [
    "for k, cppn in cppns.items():\n",
    "    print(\"CX\", len(cppn.enabled_connections))\n",
    "    print(\"N\", len(cppn.nodes))\n",
    "    "
   ]
  },
  {
   "cell_type": "code",
   "execution_count": 335,
   "metadata": {},
   "outputs": [
    {
     "name": "stdout",
     "output_type": "stream",
     "text": [
      "\n",
      "-4 : ['-1,38', '38,142', '142,-4']\n",
      "weights: [2.551194190979004, -2.3667547702789307, 3.5483245849609375]\n",
      "-5 : ['-3,74', '74,141', '141,-5']\n",
      "weights: [-0.7546034455299377, 3.197143316268921, -0.6180698871612549]\n",
      "-6 : ['-3,50', '50,130', '130,-6']\n",
      "weights: [-2.794822931289673, 2.0831189155578613, 5.316186428070068]\n",
      "['142,-4', '38,142', '-1,38', '141,-5', '74,141', '-3,74', '130,-6', '50,130', '-3,50']\n",
      "[{'-3', '-2', '-1'}, {'50', '74', '38'}, {'130', '142', '141'}, {'-5', '-4', '-6'}]\n",
      "-3 []\n",
      "-2 []\n",
      "-1 []\n",
      "50 [tensor([[-3.9525, -3.9215, -3.8907,  ..., -3.8907, -3.9215, -3.9525],\n",
      "        [-3.9215, -3.8902, -3.8592,  ..., -3.8592, -3.8902, -3.9215],\n",
      "        [-3.8907, -3.8592, -3.8280,  ..., -3.8280, -3.8592, -3.8907],\n",
      "        ...,\n",
      "        [-3.8907, -3.8592, -3.8280,  ..., -3.8280, -3.8592, -3.8907],\n",
      "        [-3.9215, -3.8902, -3.8592,  ..., -3.8592, -3.8902, -3.9215],\n",
      "        [-3.9525, -3.9215, -3.8907,  ..., -3.8907, -3.9215, -3.9525]],\n",
      "       grad_fn=<MulBackward0>)]\n",
      "74 [tensor([[-1.0672, -1.0588, -1.0505,  ..., -1.0505, -1.0588, -1.0672],\n",
      "        [-1.0588, -1.0504, -1.0420,  ..., -1.0420, -1.0504, -1.0588],\n",
      "        [-1.0505, -1.0420, -1.0336,  ..., -1.0336, -1.0420, -1.0505],\n",
      "        ...,\n",
      "        [-1.0505, -1.0420, -1.0336,  ..., -1.0336, -1.0420, -1.0505],\n",
      "        [-1.0588, -1.0504, -1.0420,  ..., -1.0420, -1.0504, -1.0588],\n",
      "        [-1.0672, -1.0588, -1.0505,  ..., -1.0505, -1.0588, -1.0672]],\n",
      "       grad_fn=<MulBackward0>)]\n",
      "38 [tensor([[-2.5512, -2.5512, -2.5512,  ..., -2.5512, -2.5512, -2.5512],\n",
      "        [-2.5110, -2.5110, -2.5110,  ..., -2.5110, -2.5110, -2.5110],\n",
      "        [-2.4708, -2.4708, -2.4708,  ..., -2.4708, -2.4708, -2.4708],\n",
      "        ...,\n",
      "        [ 2.4708,  2.4708,  2.4708,  ...,  2.4708,  2.4708,  2.4708],\n",
      "        [ 2.5110,  2.5110,  2.5110,  ...,  2.5110,  2.5110,  2.5110],\n",
      "        [ 2.5512,  2.5512,  2.5512,  ...,  2.5512,  2.5512,  2.5512]],\n",
      "       grad_fn=<MulBackward0>)]\n",
      "130 [tensor([[0.0393, 0.0405, 0.0417,  ..., 0.0417, 0.0405, 0.0393],\n",
      "        [0.0405, 0.0417, 0.0430,  ..., 0.0430, 0.0417, 0.0405],\n",
      "        [0.0417, 0.0430, 0.0443,  ..., 0.0443, 0.0430, 0.0417],\n",
      "        ...,\n",
      "        [0.0417, 0.0430, 0.0443,  ..., 0.0443, 0.0430, 0.0417],\n",
      "        [0.0405, 0.0417, 0.0430,  ..., 0.0430, 0.0417, 0.0405],\n",
      "        [0.0393, 0.0405, 0.0417,  ..., 0.0417, 0.0405, 0.0393]],\n",
      "       grad_fn=<MulBackward0>)]\n",
      "142 [tensor([[ 6.0381,  6.0381,  6.0381,  ...,  6.0381,  6.0381,  6.0381],\n",
      "        [ 5.9430,  5.9430,  5.9430,  ...,  5.9430,  5.9430,  5.9430],\n",
      "        [ 5.8479,  5.8479,  5.8479,  ...,  5.8479,  5.8479,  5.8479],\n",
      "        ...,\n",
      "        [-5.8479, -5.8479, -5.8479,  ..., -5.8479, -5.8479, -5.8479],\n",
      "        [-5.9430, -5.9430, -5.9430,  ..., -5.9430, -5.9430, -5.9430],\n",
      "        [-6.0381, -6.0381, -6.0381,  ..., -6.0381, -6.0381, -6.0381]],\n",
      "       grad_fn=<MulBackward0>)]\n",
      "141 [tensor([[-2.8002, -2.7872, -2.7741,  ..., -2.7741, -2.7872, -2.8002],\n",
      "        [-2.7872, -2.7739, -2.7605,  ..., -2.7605, -2.7739, -2.7872],\n",
      "        [-2.7741, -2.7605, -2.7467,  ..., -2.7467, -2.7605, -2.7741],\n",
      "        ...,\n",
      "        [-2.7741, -2.7605, -2.7467,  ..., -2.7467, -2.7605, -2.7741],\n",
      "        [-2.7872, -2.7739, -2.7605,  ..., -2.7605, -2.7739, -2.7872],\n",
      "        [-2.8002, -2.7872, -2.7741,  ..., -2.7741, -2.7872, -2.8002]],\n",
      "       grad_fn=<MulBackward0>)]\n",
      "-5 [tensor([[1.7307, 1.7227, 1.7146,  ..., 1.7146, 1.7227, 1.7307],\n",
      "        [1.7227, 1.7144, 1.7062,  ..., 1.7062, 1.7144, 1.7227],\n",
      "        [1.7146, 1.7062, 1.6977,  ..., 1.6977, 1.7062, 1.7146],\n",
      "        ...,\n",
      "        [1.7146, 1.7062, 1.6977,  ..., 1.6977, 1.7062, 1.7146],\n",
      "        [1.7227, 1.7144, 1.7062,  ..., 1.7062, 1.7144, 1.7227],\n",
      "        [1.7307, 1.7227, 1.7146,  ..., 1.7146, 1.7227, 1.7307]],\n",
      "       grad_fn=<MulBackward0>)]\n",
      "-4 [tensor([[-0.8611, -0.8611, -0.8611,  ..., -0.8611, -0.8611, -0.8611],\n",
      "        [-1.1841, -1.1841, -1.1841,  ..., -1.1841, -1.1841, -1.1841],\n",
      "        [-1.4963, -1.4963, -1.4963,  ..., -1.4963, -1.4963, -1.4963],\n",
      "        ...,\n",
      "        [ 1.4963,  1.4963,  1.4963,  ...,  1.4963,  1.4963,  1.4963],\n",
      "        [ 1.1841,  1.1841,  1.1841,  ...,  1.1841,  1.1841,  1.1841],\n",
      "        [ 0.8611,  0.8611,  0.8611,  ...,  0.8611,  0.8611,  0.8611]],\n",
      "       grad_fn=<MulBackward0>)]\n",
      "-6 [tensor([[0.2087, 0.2151, 0.2217,  ..., 0.2217, 0.2151, 0.2087],\n",
      "        [0.2151, 0.2218, 0.2287,  ..., 0.2287, 0.2218, 0.2151],\n",
      "        [0.2217, 0.2287, 0.2358,  ..., 0.2358, 0.2287, 0.2217],\n",
      "        ...,\n",
      "        [0.2217, 0.2287, 0.2358,  ..., 0.2358, 0.2287, 0.2217],\n",
      "        [0.2151, 0.2218, 0.2287,  ..., 0.2287, 0.2218, 0.2151],\n",
      "        [0.2087, 0.2151, 0.2217,  ..., 0.2217, 0.2151, 0.2087]],\n",
      "       grad_fn=<MulBackward0>)]\n",
      "CXS 9\n",
      "CXS 9\n",
      "N 150\n"
     ]
    }
   ],
   "source": [
    "from copy import deepcopy\n",
    "config_copy = deepcopy(config)\n",
    "\n",
    "config_copy.n_fourier_features = 0\n",
    "config_copy.num_inputs = 3\n",
    "\n",
    "config_copy.hidden_nodes_at_start = [128, 16]\n",
    "config_copy.init_connection_probability =0.0\n",
    "config_copy.force_init_path_inputs_outputs = True\n",
    "\n",
    "print(config.output_activation)\n",
    "if len(config.output_activation) == 0:\n",
    "    config_copy.output_activation = None\n",
    "\n",
    "from cppn import CPPN\n",
    "\n",
    "cppn = CPPN(config_copy)\n",
    "\n",
    "img = cppn(inputs, channel_first=False).detach().cpu().numpy()\n",
    "\n",
    "print(\"CXS\", len(cppn.connections))\n",
    "print(\"CXS\", len(cppn.enabled_connections))\n",
    "print(\"N\", len(cppn.nodes))\n",
    "# print(\"prune\")\n",
    "# cppn.prune(config_copy)\n",
    "# print(\"CXS\", len(cppn.connections))\n",
    "# print(\"CXS\", len(cppn.enabled_connections))\n",
    "# print(\"N\", len(cppn.nodes))"
   ]
  },
  {
   "cell_type": "code",
   "execution_count": 336,
   "metadata": {},
   "outputs": [],
   "source": [
    "from cppn.visualize import visualize_network\n",
    "# visualize_network(cppn, config_copy, show=True)"
   ]
  },
  {
   "cell_type": "code",
   "execution_count": 337,
   "metadata": {},
   "outputs": [
    {
     "name": "stdout",
     "output_type": "stream",
     "text": [
      "['142,-4', '38,142', '-1,38', '141,-5', '74,141', '-3,74', '130,-6', '50,130', '-3,50']\n"
     ]
    }
   ],
   "source": [
    "print(list(cppn.connections.keys()))\n",
    "\n",
    "output_node = '-3'\n",
    "\n"
   ]
  },
  {
   "cell_type": "code",
   "execution_count": 338,
   "metadata": {},
   "outputs": [
    {
     "name": "stdout",
     "output_type": "stream",
     "text": [
      "['142,-4', '38,142', '-1,38', '141,-5', '74,141', '-3,74', '130,-6', '50,130', '-3,50']\n",
      "[{'-3', '-2', '-1'}, {'50', '74', '38'}, {'130', '142', '141'}, {'-5', '-4', '-6'}]\n",
      "['142,-4', '38,142', '-1,38', '141,-5', '74,141', '-3,74', '130,-6', '50,130', '-3,50']\n",
      "[{'-3', '-2', '-1'}, {'50', '74', '38'}, {'130', '142', '141'}, {'-5', '-4', '-6'}]\n",
      "-3 []\n",
      "-2 []\n",
      "-1 []\n",
      "50 [tensor([[-3.9525, -3.9215, -3.8907,  ..., -3.8907, -3.9215, -3.9525],\n",
      "        [-3.9215, -3.8902, -3.8592,  ..., -3.8592, -3.8902, -3.9215],\n",
      "        [-3.8907, -3.8592, -3.8280,  ..., -3.8280, -3.8592, -3.8907],\n",
      "        ...,\n",
      "        [-3.8907, -3.8592, -3.8280,  ..., -3.8280, -3.8592, -3.8907],\n",
      "        [-3.9215, -3.8902, -3.8592,  ..., -3.8592, -3.8902, -3.9215],\n",
      "        [-3.9525, -3.9215, -3.8907,  ..., -3.8907, -3.9215, -3.9525]],\n",
      "       grad_fn=<MulBackward0>)]\n",
      "74 [tensor([[-1.0672, -1.0588, -1.0505,  ..., -1.0505, -1.0588, -1.0672],\n",
      "        [-1.0588, -1.0504, -1.0420,  ..., -1.0420, -1.0504, -1.0588],\n",
      "        [-1.0505, -1.0420, -1.0336,  ..., -1.0336, -1.0420, -1.0505],\n",
      "        ...,\n",
      "        [-1.0505, -1.0420, -1.0336,  ..., -1.0336, -1.0420, -1.0505],\n",
      "        [-1.0588, -1.0504, -1.0420,  ..., -1.0420, -1.0504, -1.0588],\n",
      "        [-1.0672, -1.0588, -1.0505,  ..., -1.0505, -1.0588, -1.0672]],\n",
      "       grad_fn=<MulBackward0>)]\n",
      "38 [tensor([[-2.5512, -2.5512, -2.5512,  ..., -2.5512, -2.5512, -2.5512],\n",
      "        [-2.5110, -2.5110, -2.5110,  ..., -2.5110, -2.5110, -2.5110],\n",
      "        [-2.4708, -2.4708, -2.4708,  ..., -2.4708, -2.4708, -2.4708],\n",
      "        ...,\n",
      "        [ 2.4708,  2.4708,  2.4708,  ...,  2.4708,  2.4708,  2.4708],\n",
      "        [ 2.5110,  2.5110,  2.5110,  ...,  2.5110,  2.5110,  2.5110],\n",
      "        [ 2.5512,  2.5512,  2.5512,  ...,  2.5512,  2.5512,  2.5512]],\n",
      "       grad_fn=<MulBackward0>)]\n",
      "130 [tensor([[0.0393, 0.0405, 0.0417,  ..., 0.0417, 0.0405, 0.0393],\n",
      "        [0.0405, 0.0417, 0.0430,  ..., 0.0430, 0.0417, 0.0405],\n",
      "        [0.0417, 0.0430, 0.0443,  ..., 0.0443, 0.0430, 0.0417],\n",
      "        ...,\n",
      "        [0.0417, 0.0430, 0.0443,  ..., 0.0443, 0.0430, 0.0417],\n",
      "        [0.0405, 0.0417, 0.0430,  ..., 0.0430, 0.0417, 0.0405],\n",
      "        [0.0393, 0.0405, 0.0417,  ..., 0.0417, 0.0405, 0.0393]],\n",
      "       grad_fn=<MulBackward0>)]\n",
      "142 [tensor([[ 6.0381,  6.0381,  6.0381,  ...,  6.0381,  6.0381,  6.0381],\n",
      "        [ 5.9430,  5.9430,  5.9430,  ...,  5.9430,  5.9430,  5.9430],\n",
      "        [ 5.8479,  5.8479,  5.8479,  ...,  5.8479,  5.8479,  5.8479],\n",
      "        ...,\n",
      "        [-5.8479, -5.8479, -5.8479,  ..., -5.8479, -5.8479, -5.8479],\n",
      "        [-5.9430, -5.9430, -5.9430,  ..., -5.9430, -5.9430, -5.9430],\n",
      "        [-6.0381, -6.0381, -6.0381,  ..., -6.0381, -6.0381, -6.0381]],\n",
      "       grad_fn=<MulBackward0>)]\n",
      "141 [tensor([[-2.8002, -2.7872, -2.7741,  ..., -2.7741, -2.7872, -2.8002],\n",
      "        [-2.7872, -2.7739, -2.7605,  ..., -2.7605, -2.7739, -2.7872],\n",
      "        [-2.7741, -2.7605, -2.7467,  ..., -2.7467, -2.7605, -2.7741],\n",
      "        ...,\n",
      "        [-2.7741, -2.7605, -2.7467,  ..., -2.7467, -2.7605, -2.7741],\n",
      "        [-2.7872, -2.7739, -2.7605,  ..., -2.7605, -2.7739, -2.7872],\n",
      "        [-2.8002, -2.7872, -2.7741,  ..., -2.7741, -2.7872, -2.8002]],\n",
      "       grad_fn=<MulBackward0>)]\n",
      "-5 [tensor([[1.7307, 1.7227, 1.7146,  ..., 1.7146, 1.7227, 1.7307],\n",
      "        [1.7227, 1.7144, 1.7062,  ..., 1.7062, 1.7144, 1.7227],\n",
      "        [1.7146, 1.7062, 1.6977,  ..., 1.6977, 1.7062, 1.7146],\n",
      "        ...,\n",
      "        [1.7146, 1.7062, 1.6977,  ..., 1.6977, 1.7062, 1.7146],\n",
      "        [1.7227, 1.7144, 1.7062,  ..., 1.7062, 1.7144, 1.7227],\n",
      "        [1.7307, 1.7227, 1.7146,  ..., 1.7146, 1.7227, 1.7307]],\n",
      "       grad_fn=<MulBackward0>)]\n",
      "-4 [tensor([[-0.8611, -0.8611, -0.8611,  ..., -0.8611, -0.8611, -0.8611],\n",
      "        [-1.1841, -1.1841, -1.1841,  ..., -1.1841, -1.1841, -1.1841],\n",
      "        [-1.4963, -1.4963, -1.4963,  ..., -1.4963, -1.4963, -1.4963],\n",
      "        ...,\n",
      "        [ 1.4963,  1.4963,  1.4963,  ...,  1.4963,  1.4963,  1.4963],\n",
      "        [ 1.1841,  1.1841,  1.1841,  ...,  1.1841,  1.1841,  1.1841],\n",
      "        [ 0.8611,  0.8611,  0.8611,  ...,  0.8611,  0.8611,  0.8611]],\n",
      "       grad_fn=<MulBackward0>)]\n",
      "-6 [tensor([[0.2087, 0.2151, 0.2217,  ..., 0.2217, 0.2151, 0.2087],\n",
      "        [0.2151, 0.2218, 0.2287,  ..., 0.2287, 0.2218, 0.2151],\n",
      "        [0.2217, 0.2287, 0.2358,  ..., 0.2358, 0.2287, 0.2217],\n",
      "        ...,\n",
      "        [0.2217, 0.2287, 0.2358,  ..., 0.2358, 0.2287, 0.2217],\n",
      "        [0.2151, 0.2218, 0.2287,  ..., 0.2287, 0.2218, 0.2151],\n",
      "        [0.2087, 0.2151, 0.2217,  ..., 0.2217, 0.2151, 0.2087]],\n",
      "       grad_fn=<MulBackward0>)]\n"
     ]
    },
    {
     "data": {
      "image/png": "[encoded data removed]",
      "text/plain": [
       "<Figure size 640x480 with 1 Axes>"
      ]
     },
     "metadata": {},
     "output_type": "display_data"
    }
   ],
   "source": [
    "import matplotlib.pyplot as plt\n",
    "cppn_copy = cppn.clone(config_copy)\n",
    "cppn_copy.update_layers()\n",
    "img = cppn_copy(inputs, channel_first=False).detach().cpu().numpy()\n",
    "plt.imshow(img)\n",
    "plt.axis('off')\n",
    "plt.show()\n"
   ]
  }
 ],
 "metadata": {
  "kernelspec": {
   "display_name": "Python 3 (ipykernel)",
   "language": "python",
   "name": "python3"
  },
  "language_info": {
   "codemirror_mode": {
    "name": "ipython",
    "version": 3
   },
   "file_extension": ".py",
   "mimetype": "text/x-python",
   "name": "python",
   "nbconvert_exporter": "python",
   "pygments_lexer": "ipython3",
   "version": "3.10.9"
  }
 },
 "nbformat": 4,
 "nbformat_minor": 2
}
