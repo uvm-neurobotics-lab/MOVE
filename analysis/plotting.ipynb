{
 "cells": [
  {
   "cell_type": "code",
   "execution_count": null,
   "metadata": {},
   "outputs": [],
   "source": [
    "from plot import *"
   ]
  },
  {
   "cell_type": "code",
   "execution_count": null,
   "metadata": {},
   "outputs": [],
   "source": [
    "results_path = \"../../results/bloat-then-min-prune\"\n",
    "show=True"
   ]
  },
  {
   "cell_type": "code",
   "execution_count": null,
   "metadata": {},
   "outputs": [],
   "source": [
    "\n",
    "save_path = os.path.join(results_path, \"plots\")\n",
    "os.makedirs(os.path.join(save_path), exist_ok=True)\n",
    "\n",
    "metrics = [\n",
    "    \"evals_by_batch\",\n",
    "    \"normed_fitness_by_batch\",\n",
    "    \"pruned_cxs\",\n",
    "    # \"offspring_by_batch\",\n",
    "    # \"fitness_by_batch\",\n",
    "    \"cx_by_batch\",\n",
    "    \"nodes_by_batch\",\n",
    "\n",
    "]\n",
    "# offs_results = read_tensor_results(args.results_path, \"offspring_by_batch\")\n",
    "results = read_tensor_results(results_path, metrics, max_runs=None)\n",
    "# results = results.dropna()\n",
    "print(results)\n"
   ]
  },
  {
   "cell_type": "code",
   "execution_count": 4,
   "metadata": {},
   "outputs": [],
   "source": [
    "plot_vs_evals(results, 'normed_fitness_by_batch', save_path, show)\n",
    "plot_vs_evals(results, 'normed_fitness_by_batch', save_path, show, mean_by_target=True)"
   ]
  },
  {
   "cell_type": "code",
   "execution_count": null,
   "metadata": {},
   "outputs": [],
   "source": [
    "plot_vs_evals(results, 'cx_by_batch', save_path, show)\n",
    "plot_vs_evals(results, 'cx_by_batch', save_path, show, mean_by_target=True)"
   ]
  },
  {
   "cell_type": "code",
   "execution_count": null,
   "metadata": {},
   "outputs": [],
   "source": [
    "plot_vs_evals(results, 'nodes_by_batch', save_path, show)\n",
    "plot_vs_evals(results, 'nodes_by_batch', save_path, show, mean_by_target=True)"
   ]
  },
  {
   "cell_type": "code",
   "execution_count": null,
   "metadata": {},
   "outputs": [],
   "source": [
    "plot_vs_evals(results, 'pruned_cxs', save_path, show)\n",
    "plot_vs_evals(results, 'pruned_cxs', save_path, show, mean_by_target=True)"
   ]
  }
 ],
 "metadata": {
  "kernelspec": {
   "display_name": "move",
   "language": "python",
   "name": "python3"
  },
  "language_info": {
   "codemirror_mode": {
    "name": "ipython",
    "version": 3
   },
   "file_extension": ".py",
   "mimetype": "text/x-python",
   "name": "python",
   "nbconvert_exporter": "python",
   "pygments_lexer": "ipython3",
   "version": "3.10.9"
  }
 },
 "nbformat": 4,
 "nbformat_minor": 2
}
