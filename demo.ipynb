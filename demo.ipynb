{
 "cells": [
  {
   "cell_type": "code",
   "execution_count": null,
   "metadata": {},
   "outputs": [],
   "source": [
    "%load_ext autoreload\n",
    "%autoreload 2\n",
    "from cppn_torch.activation_functions import *\n",
    "from matplotlib import pyplot as plt\n",
    "import imageio.v2 as iio\n",
    "from tqdm import tqdm\n",
    "from move import MOVE\n",
    "from move_config import MoveConfig\n",
    "from cppn_torch.util import center_crop, resize"
   ]
  },
  {
   "cell_type": "code",
   "execution_count": null,
   "metadata": {},
   "outputs": [],
   "source": [
    "target_name = \"https://upload.wikimedia.org/wikipedia/commons/1/1e/Sunrise_over_the_sea.jpg\"\n",
    "# target_name = \"https://media.istockphoto.com/id/689364180/vector/smiling-cartoon-face-positive-people-emotion-icon.jpg?s=612x612&w=0&k=20&c=2olrbVI2dkVyR0XKaMs4cSDrzpA4zH4FrCfZ_rKwVjU=\"\n"
   ]
  },
  {
   "cell_type": "code",
   "execution_count": null,
   "metadata": {},
   "outputs": [],
   "source": [
    "from run_setup import run_setup, fix_target_dimensions\n",
    "from evolution_torch.algorithm_config import resize_target\n",
    "config = MoveConfig()\n",
    "config.color_mode = \"HSL\"\n",
    "config.target =  target_name\n",
    "config.target_name = 'default'\n",
    "config.target_res = [100, 100]\n",
    "pilmode = \"RGB\" if len(config.color_mode) == 3 else \"L\"\n",
    "config.target = torch.tensor(iio.imread(config.target, pilmode=pilmode, as_gray=len(config.color_mode)==1), dtype=torch.float32, device=config.device) / 255.0\n",
    "\n",
    "import cppn_torch.activation_functions as af\n",
    "import fitness.fitness_functions as ff\n",
    "config.activations = [af.identity]\n",
    "config.objective_functions = [ff.mse, ff.mse, ff.mse, ff.mse]\n",
    "\n",
    "\n",
    "resize_target(config)\n",
    "fix_target_dimensions(config)\n"
   ]
  },
  {
   "cell_type": "code",
   "execution_count": null,
   "metadata": {},
   "outputs": [],
   "source": [
    "\n",
    "plt.imshow(config.target.cpu().numpy())\n",
    "plt.show()"
   ]
  },
  {
   "cell_type": "code",
   "execution_count": null,
   "metadata": {},
   "outputs": [],
   "source": [
    "move = MOVE(config)"
   ]
  },
  {
   "cell_type": "code",
   "execution_count": null,
   "metadata": {},
   "outputs": [],
   "source": [
    "from cppn_torch.util import show_inputs\n",
    "show_inputs(move.inputs, cols=10)"
   ]
  },
  {
   "cell_type": "code",
   "execution_count": null,
   "metadata": {},
   "outputs": [],
   "source": [
    "try:\n",
    "    move.evolve()\n",
    "except KeyboardInterrupt:\n",
    "    pass\n"
   ]
  },
  {
   "cell_type": "code",
   "execution_count": null,
   "metadata": {},
   "outputs": [],
   "source": [
    "from baseline import norm_tensor\n",
    "normed_fits = torch.ones(move.record.fitness_over_time.shape) * -torch.inf\n",
    "for fn_i in range(move.record.fitness_over_time.shape[0]):\n",
    "    fn_name = move.fns[fn_i].__name__\n",
    "    normed_fits[fn_i] = norm_tensor(move.record.fitness_over_time[fn_i], move.config.norm_df_path, fn_name)\n",
    "\n",
    "plt.plot(normed_fits.mean(dim=(0)).cpu())\n",
    "plt.show()"
   ]
  },
  {
   "cell_type": "code",
   "execution_count": null,
   "metadata": {},
   "outputs": [],
   "source": [
    "from util import show_move_map_images\n",
    "show_move_map_images(move)"
   ]
  },
  {
   "cell_type": "code",
   "execution_count": null,
   "metadata": {},
   "outputs": [],
   "source": [
    "move.solution.draw_nx()"
   ]
  },
  {
   "cell_type": "code",
   "execution_count": null,
   "metadata": {},
   "outputs": [],
   "source": [
    "\n",
    "from cppn_torch.util import visualize_node_outputs\n",
    "visualize_node_outputs(move.solution, move.inputs);\n",
    "\n",
    "plt.show()"
   ]
  },
  {
   "cell_type": "code",
   "execution_count": null,
   "metadata": {},
   "outputs": [],
   "source": [
    "print(f\"{'Individual in cell' :20s}  {'Lineage'}\")\n",
    "print('-' * 40)\n",
    "for cell_id, lineage in enumerate(move.get_lineages()):\n",
    "    print(f\"{move.map.cell_names[cell_id]:20s}: {lineage}\")\n",
    "    \n",
    "print('-' * 40)\n",
    "print(\"\\n\\n* -1: randomly initialized genome\")"
   ]
  }
 ],
 "metadata": {
  "kernelspec": {
   "display_name": "Python 3 (ipykernel)",
   "language": "python",
   "name": "python3"
  },
  "language_info": {
   "codemirror_mode": {
    "name": "ipython",
    "version": 3
   },
   "file_extension": ".py",
   "mimetype": "text/x-python",
   "name": "python",
   "nbconvert_exporter": "python",
   "pygments_lexer": "ipython3",
   "version": "3.10.9"
  }
 },
 "nbformat": 4,
 "nbformat_minor": 2
}
